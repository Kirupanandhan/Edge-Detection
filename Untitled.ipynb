{
 "cells": [
  {
   "cell_type": "code",
   "execution_count": null,
   "id": "44e5fae7",
   "metadata": {},
   "outputs": [],
   "source": [
    "import cv2\n",
    "import umpy as np\n",
    "import matplotlib.pyplot as plt\n",
    "image=cv2.imreaed(\"windows.jpg\")\n",
    "\n",
    "img=cv2.imread(\"windows.jpg\")\n",
    "\n",
    "gray=cv2.cvtColor(image,cv2.COLOR_BGR2GRAY)"
   ]
  }
 ],
 "metadata": {
  "kernelspec": {
   "display_name": "Python 3 (ipykernel)",
   "language": "python",
   "name": "python3"
  },
  "language_info": {
   "codemirror_mode": {
    "name": "ipython",
    "version": 3
   },
   "file_extension": ".py",
   "mimetype": "text/x-python",
   "name": "python",
   "nbconvert_exporter": "python",
   "pygments_lexer": "ipython3",
   "version": "3.8.12"
  }
 },
 "nbformat": 4,
 "nbformat_minor": 5
}
